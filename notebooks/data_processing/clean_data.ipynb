{
 "cells": [
  {
   "cell_type": "markdown",
   "metadata": {},
   "source": [
    "# Limpieza y transformación del Dataset"
   ]
  },
  {
   "cell_type": "code",
   "execution_count": 35,
   "metadata": {},
   "outputs": [
    {
     "data": {
      "text/html": [
       "<div>\n",
       "<style scoped>\n",
       "    .dataframe tbody tr th:only-of-type {\n",
       "        vertical-align: middle;\n",
       "    }\n",
       "\n",
       "    .dataframe tbody tr th {\n",
       "        vertical-align: top;\n",
       "    }\n",
       "\n",
       "    .dataframe thead th {\n",
       "        text-align: right;\n",
       "    }\n",
       "</style>\n",
       "<table border=\"1\" class=\"dataframe\">\n",
       "  <thead>\n",
       "    <tr style=\"text-align: right;\">\n",
       "      <th></th>\n",
       "      <th>InvoiceNo</th>\n",
       "      <th>StockCode</th>\n",
       "      <th>Description</th>\n",
       "      <th>Quantity</th>\n",
       "      <th>InvoiceDate</th>\n",
       "      <th>UnitPrice</th>\n",
       "      <th>CustomerID</th>\n",
       "      <th>Country</th>\n",
       "    </tr>\n",
       "  </thead>\n",
       "  <tbody>\n",
       "    <tr>\n",
       "      <th>0</th>\n",
       "      <td>536365</td>\n",
       "      <td>85123A</td>\n",
       "      <td>WHITE HANGING HEART T-LIGHT HOLDER</td>\n",
       "      <td>6</td>\n",
       "      <td>12/1/2010 8:26</td>\n",
       "      <td>2.55</td>\n",
       "      <td>17850.0</td>\n",
       "      <td>United Kingdom</td>\n",
       "    </tr>\n",
       "    <tr>\n",
       "      <th>1</th>\n",
       "      <td>536365</td>\n",
       "      <td>71053</td>\n",
       "      <td>WHITE METAL LANTERN</td>\n",
       "      <td>6</td>\n",
       "      <td>12/1/2010 8:26</td>\n",
       "      <td>3.39</td>\n",
       "      <td>17850.0</td>\n",
       "      <td>United Kingdom</td>\n",
       "    </tr>\n",
       "    <tr>\n",
       "      <th>2</th>\n",
       "      <td>536365</td>\n",
       "      <td>84406B</td>\n",
       "      <td>CREAM CUPID HEARTS COAT HANGER</td>\n",
       "      <td>8</td>\n",
       "      <td>12/1/2010 8:26</td>\n",
       "      <td>2.75</td>\n",
       "      <td>17850.0</td>\n",
       "      <td>United Kingdom</td>\n",
       "    </tr>\n",
       "    <tr>\n",
       "      <th>3</th>\n",
       "      <td>536365</td>\n",
       "      <td>84029G</td>\n",
       "      <td>KNITTED UNION FLAG HOT WATER BOTTLE</td>\n",
       "      <td>6</td>\n",
       "      <td>12/1/2010 8:26</td>\n",
       "      <td>3.39</td>\n",
       "      <td>17850.0</td>\n",
       "      <td>United Kingdom</td>\n",
       "    </tr>\n",
       "  </tbody>\n",
       "</table>\n",
       "</div>"
      ],
      "text/plain": [
       "  InvoiceNo StockCode                          Description  Quantity  \\\n",
       "0    536365    85123A   WHITE HANGING HEART T-LIGHT HOLDER         6   \n",
       "1    536365     71053                  WHITE METAL LANTERN         6   \n",
       "2    536365    84406B       CREAM CUPID HEARTS COAT HANGER         8   \n",
       "3    536365    84029G  KNITTED UNION FLAG HOT WATER BOTTLE         6   \n",
       "\n",
       "      InvoiceDate  UnitPrice  CustomerID         Country  \n",
       "0  12/1/2010 8:26       2.55     17850.0  United Kingdom  \n",
       "1  12/1/2010 8:26       3.39     17850.0  United Kingdom  \n",
       "2  12/1/2010 8:26       2.75     17850.0  United Kingdom  \n",
       "3  12/1/2010 8:26       3.39     17850.0  United Kingdom  "
      ]
     },
     "execution_count": 35,
     "metadata": {},
     "output_type": "execute_result"
    }
   ],
   "source": [
    "import pandas as pd\n",
    "# Cargamos el dataset\n",
    "df = pd.read_csv('../../data/dataset_original.csv', encoding='ISO-8859-1')\n",
    "# Mostramos las primeras filas\n",
    "df.head(4)"
   ]
  },
  {
   "cell_type": "markdown",
   "metadata": {},
   "source": [
    "- Filtramos líneas con precios que anulan las ventas\n"
   ]
  },
  {
   "cell_type": "code",
   "execution_count": 36,
   "metadata": {},
   "outputs": [
    {
     "data": {
      "text/html": [
       "<div>\n",
       "<style scoped>\n",
       "    .dataframe tbody tr th:only-of-type {\n",
       "        vertical-align: middle;\n",
       "    }\n",
       "\n",
       "    .dataframe tbody tr th {\n",
       "        vertical-align: top;\n",
       "    }\n",
       "\n",
       "    .dataframe thead th {\n",
       "        text-align: right;\n",
       "    }\n",
       "</style>\n",
       "<table border=\"1\" class=\"dataframe\">\n",
       "  <thead>\n",
       "    <tr style=\"text-align: right;\">\n",
       "      <th></th>\n",
       "      <th>InvoiceNo</th>\n",
       "      <th>StockCode</th>\n",
       "      <th>Description</th>\n",
       "      <th>Quantity</th>\n",
       "      <th>InvoiceDate</th>\n",
       "      <th>UnitPrice</th>\n",
       "      <th>CustomerID</th>\n",
       "      <th>Country</th>\n",
       "    </tr>\n",
       "  </thead>\n",
       "  <tbody>\n",
       "  </tbody>\n",
       "</table>\n",
       "</div>"
      ],
      "text/plain": [
       "Empty DataFrame\n",
       "Columns: [InvoiceNo, StockCode, Description, Quantity, InvoiceDate, UnitPrice, CustomerID, Country]\n",
       "Index: []"
      ]
     },
     "execution_count": 36,
     "metadata": {},
     "output_type": "execute_result"
    }
   ],
   "source": [
    "# Las facturas que tienen UnitPrice a 0, no aportan nada. FUERA!\n",
    "df = df[df['UnitPrice'] != 0]\n",
    "df[df['UnitPrice']==0]"
   ]
  },
  {
   "cell_type": "markdown",
   "metadata": {},
   "source": [
    "- Filtramos las líneas con precios unitarios negativos"
   ]
  },
  {
   "cell_type": "code",
   "execution_count": 37,
   "metadata": {},
   "outputs": [
    {
     "name": "stdout",
     "output_type": "stream",
     "text": [
      "Numero de 'UnitPrice' negativos antes: 2\n",
      "Numero de 'UnitPrice' negativos ahora: 0\n"
     ]
    }
   ],
   "source": [
    "mask = df[['UnitPrice']] < 0\n",
    "df = df[~mask.any(axis=1)]\n",
    "\n",
    "print(f\"Numero de 'UnitPrice' negativos antes: {mask.sum()['UnitPrice']}\")\n",
    "print(f\"Numero de 'UnitPrice' negativos ahora: {(df[['UnitPrice']] < 0).sum()['UnitPrice']}\")"
   ]
  },
  {
   "cell_type": "markdown",
   "metadata": {},
   "source": [
    "- Eliminamos las filas duplicadas"
   ]
  },
  {
   "cell_type": "code",
   "execution_count": 38,
   "metadata": {},
   "outputs": [
    {
     "name": "stdout",
     "output_type": "stream",
     "text": [
      "Numero de duplicados antes: 5263\n",
      "Numero de duplicados después: 0\n"
     ]
    }
   ],
   "source": [
    "print(f\"Numero de duplicados antes: {df.duplicated().sum()}\")\n",
    "\n",
    "df = df.drop_duplicates()\n",
    "\n",
    "print(f\"Numero de duplicados después: {df.duplicated().sum()}\")"
   ]
  },
  {
   "cell_type": "markdown",
   "metadata": {},
   "source": [
    "- Rellenamos los valores nulos de CustomerID"
   ]
  },
  {
   "cell_type": "code",
   "execution_count": 39,
   "metadata": {},
   "outputs": [
    {
     "name": "stdout",
     "output_type": "stream",
     "text": [
      "Número de 'CustomerID' nulos antes: 132565\n",
      "Número de 'CustomerID' nulos ahora: 0\n"
     ]
    }
   ],
   "source": [
    "print(f\"Número de 'CustomerID' nulos antes: {df['CustomerID'].isnull().sum()}\")\n",
    "\n",
    "# agrupamos por InvoiceNo , y usamos ffill y bfill para rellenar, los valores nulls que no se rellenen les da un valor nuevo unico\n",
    "df['CustomerID'] = df.groupby(['InvoiceNo'])['CustomerID'].ffill().bfill()\n",
    "\n",
    "print(f\"Número de 'CustomerID' nulos ahora: {df['CustomerID'].isnull().sum()}\")"
   ]
  },
  {
   "cell_type": "markdown",
   "metadata": {},
   "source": [
    "- Rellenamos los valores nulos de Description"
   ]
  },
  {
   "cell_type": "code",
   "execution_count": 40,
   "metadata": {},
   "outputs": [
    {
     "name": "stdout",
     "output_type": "stream",
     "text": [
      "Número de 'Description' nulos antes: 0\n",
      "Número de 'Description' nulos ahora: 0\n"
     ]
    }
   ],
   "source": [
    "# tratamiento Description null\n",
    "print(f\"Número de 'Description' nulos antes: {df['Description'].isnull().sum()}\")\n",
    "\n",
    "# agrupamos por stockcode, y usamos ffill para rellenar con el anterior valor dentro del grupo, para los primer valor en null tambien uso bfill\n",
    "df['Description'] = df.groupby(['StockCode'])['Description'].transform(lambda group: group.ffill().bfill())\n",
    "df['Description'] = df['Description'].fillna('No description')\n",
    "\n",
    "print(f\"Número de 'Description' nulos ahora: {df['Description'].isnull().sum()}\")"
   ]
  },
  {
   "cell_type": "markdown",
   "metadata": {},
   "source": [
    "- Detectamos y eliminamos los \"outliers\""
   ]
  },
  {
   "cell_type": "code",
   "execution_count": 41,
   "metadata": {},
   "outputs": [
    {
     "name": "stdout",
     "output_type": "stream",
     "text": [
      "Porcentaje de datos retenidos: 94.29%\n"
     ]
    }
   ],
   "source": [
    "# Para los outliers, usamos el rango intercuartil (IQR)\n",
    "total_sales = df['Quantity'] * df['UnitPrice']\n",
    "\n",
    "# Para los outliers, usamos el rango intercuartil (IQR)\n",
    "q1 = total_sales.quantile(0.25)\n",
    "q3 = total_sales.quantile(0.75)\n",
    "iqr = q3 - q1\n",
    "\n",
    "# Ajuste de rango para 90%//95%\n",
    "range=2.5\n",
    "lower_limit = q1 - (range * iqr)\n",
    "higher_limit = q3 + (range * iqr)\n",
    "\n",
    "outliers_condition = (total_sales >= lower_limit) & (total_sales <= higher_limit)\n",
    "filtered_df = df[outliers_condition]\n",
    "\n",
    "# porcentaje filtarado\n",
    "print(f\"Porcentaje de datos retenidos: {len(filtered_df) / len(df) * 100:.2f}%\")\n",
    "\n",
    "df = filtered_df"
   ]
  },
  {
   "cell_type": "markdown",
   "metadata": {},
   "source": [
    "# Transformación"
   ]
  },
  {
   "cell_type": "markdown",
   "metadata": {},
   "source": [
    "- Calculamos las ventas totales para cada conjunto"
   ]
  },
  {
   "cell_type": "code",
   "execution_count": 42,
   "metadata": {},
   "outputs": [],
   "source": [
    "df['TotalSales'] = df['Quantity'] * df['UnitPrice']"
   ]
  },
  {
   "cell_type": "markdown",
   "metadata": {},
   "source": [
    "- Descomponemos las fechas en varias columnas para enriquecer los datasets"
   ]
  },
  {
   "cell_type": "code",
   "execution_count": null,
   "metadata": {},
   "outputs": [],
   "source": [
    "def separate_date(df: pd.DataFrame):\n",
    "  df['Year'] = df['InvoiceDate'].dt.year\n",
    "  df['Month'] = df['InvoiceDate'].dt.month\n",
    "  df['Day'] = df['InvoiceDate'].dt.day\n",
    "  df['DayOfWeek'] = df['InvoiceDate'].dt.dayofweek\n",
    "  df['Quarter'] = df['Month'].apply(\n",
    "    lambda month: \n",
    "      1 if month in [1, 2, 3] else\n",
    "      2 if month in [4, 5, 6] else\n",
    "      3 if month in [7, 8, 9] else \n",
    "      4 # if no one chosen\n",
    "  )\n",
    "  df['Season'] = df['Month'].apply(\n",
    "    lambda x: \n",
    "      'Winter' if x in [12, 1, 2] else\n",
    "      'Spring' if x in [3, 4, 5] else\n",
    "      'Summer' if x in [6, 7, 8] else \n",
    "      'Fall' # if no one chosen\n",
    "  )\n",
    "  return df\n",
    "\n",
    "\n",
    "df['InvoiceDate'] = pd.to_datetime(df['InvoiceDate'])\n",
    "df = separate_date(df)"
   ]
  },
  {
   "cell_type": "markdown",
   "metadata": {},
   "source": [
    "- Dividimos los datos en dos conjuntos (Entrenamiento y Prueba)"
   ]
  },
  {
   "cell_type": "code",
   "execution_count": 44,
   "metadata": {},
   "outputs": [
    {
     "data": {
      "text/html": [
       "<div>\n",
       "<style scoped>\n",
       "    .dataframe tbody tr th:only-of-type {\n",
       "        vertical-align: middle;\n",
       "    }\n",
       "\n",
       "    .dataframe tbody tr th {\n",
       "        vertical-align: top;\n",
       "    }\n",
       "\n",
       "    .dataframe thead th {\n",
       "        text-align: right;\n",
       "    }\n",
       "</style>\n",
       "<table border=\"1\" class=\"dataframe\">\n",
       "  <thead>\n",
       "    <tr style=\"text-align: right;\">\n",
       "      <th></th>\n",
       "      <th>InvoiceNo</th>\n",
       "      <th>StockCode</th>\n",
       "      <th>Description</th>\n",
       "      <th>Quantity</th>\n",
       "      <th>InvoiceDate</th>\n",
       "      <th>UnitPrice</th>\n",
       "      <th>CustomerID</th>\n",
       "      <th>Country</th>\n",
       "      <th>TotalSales</th>\n",
       "      <th>Year</th>\n",
       "      <th>Month</th>\n",
       "      <th>Day</th>\n",
       "      <th>DayOfWeek</th>\n",
       "      <th>Quarter</th>\n",
       "      <th>Season</th>\n",
       "    </tr>\n",
       "  </thead>\n",
       "  <tbody>\n",
       "    <tr>\n",
       "      <th>447057</th>\n",
       "      <td>574943</td>\n",
       "      <td>17012D</td>\n",
       "      <td>ORIGAMI ROSE INCENSE/CANDLE SET</td>\n",
       "      <td>24</td>\n",
       "      <td>2011-11-08 07:52:00</td>\n",
       "      <td>0.85</td>\n",
       "      <td>13026.0</td>\n",
       "      <td>United Kingdom</td>\n",
       "      <td>20.4</td>\n",
       "      <td>2011</td>\n",
       "      <td>11</td>\n",
       "      <td>8</td>\n",
       "      <td>1</td>\n",
       "      <td>4</td>\n",
       "      <td>Fall</td>\n",
       "    </tr>\n",
       "    <tr>\n",
       "      <th>447058</th>\n",
       "      <td>574943</td>\n",
       "      <td>17012F</td>\n",
       "      <td>ORIGAMI SANDLEWOOD INCENSE/CAND SET</td>\n",
       "      <td>24</td>\n",
       "      <td>2011-11-08 07:52:00</td>\n",
       "      <td>0.85</td>\n",
       "      <td>13026.0</td>\n",
       "      <td>United Kingdom</td>\n",
       "      <td>20.4</td>\n",
       "      <td>2011</td>\n",
       "      <td>11</td>\n",
       "      <td>8</td>\n",
       "      <td>1</td>\n",
       "      <td>4</td>\n",
       "      <td>Fall</td>\n",
       "    </tr>\n",
       "    <tr>\n",
       "      <th>447059</th>\n",
       "      <td>574943</td>\n",
       "      <td>21636</td>\n",
       "      <td>MADRAS NOTEBOOK MEDIUM</td>\n",
       "      <td>12</td>\n",
       "      <td>2011-11-08 07:52:00</td>\n",
       "      <td>0.75</td>\n",
       "      <td>13026.0</td>\n",
       "      <td>United Kingdom</td>\n",
       "      <td>9.0</td>\n",
       "      <td>2011</td>\n",
       "      <td>11</td>\n",
       "      <td>8</td>\n",
       "      <td>1</td>\n",
       "      <td>4</td>\n",
       "      <td>Fall</td>\n",
       "    </tr>\n",
       "    <tr>\n",
       "      <th>447060</th>\n",
       "      <td>574943</td>\n",
       "      <td>21991</td>\n",
       "      <td>BOHEMIAN COLLAGE STATIONERY SET</td>\n",
       "      <td>12</td>\n",
       "      <td>2011-11-08 07:52:00</td>\n",
       "      <td>1.25</td>\n",
       "      <td>13026.0</td>\n",
       "      <td>United Kingdom</td>\n",
       "      <td>15.0</td>\n",
       "      <td>2011</td>\n",
       "      <td>11</td>\n",
       "      <td>8</td>\n",
       "      <td>1</td>\n",
       "      <td>4</td>\n",
       "      <td>Fall</td>\n",
       "    </tr>\n",
       "  </tbody>\n",
       "</table>\n",
       "</div>"
      ],
      "text/plain": [
       "       InvoiceNo StockCode                          Description  Quantity  \\\n",
       "447057    574943    17012D     ORIGAMI ROSE INCENSE/CANDLE SET         24   \n",
       "447058    574943    17012F  ORIGAMI SANDLEWOOD INCENSE/CAND SET        24   \n",
       "447059    574943     21636               MADRAS NOTEBOOK MEDIUM        12   \n",
       "447060    574943     21991      BOHEMIAN COLLAGE STATIONERY SET        12   \n",
       "\n",
       "               InvoiceDate  UnitPrice  CustomerID         Country  TotalSales  \\\n",
       "447057 2011-11-08 07:52:00       0.85     13026.0  United Kingdom        20.4   \n",
       "447058 2011-11-08 07:52:00       0.85     13026.0  United Kingdom        20.4   \n",
       "447059 2011-11-08 07:52:00       0.75     13026.0  United Kingdom         9.0   \n",
       "447060 2011-11-08 07:52:00       1.25     13026.0  United Kingdom        15.0   \n",
       "\n",
       "        Year  Month  Day  DayOfWeek  Quarter Season  \n",
       "447057  2011     11    8          1        4   Fall  \n",
       "447058  2011     11    8          1        4   Fall  \n",
       "447059  2011     11    8          1        4   Fall  \n",
       "447060  2011     11    8          1        4   Fall  "
      ]
     },
     "execution_count": 44,
     "metadata": {},
     "output_type": "execute_result"
    }
   ],
   "source": [
    "limit_date = pd.to_datetime(\"11/08/2011 00:00\", format=\"%m/%d/%Y %H:%M\")\n",
    "\n",
    "df_prediction = df[df['InvoiceDate'] > limit_date]\n",
    "df = df[df['InvoiceDate'] <= limit_date]\n",
    "\n",
    "df_prediction.head(4)"
   ]
  },
  {
   "cell_type": "markdown",
   "metadata": {},
   "source": [
    "- Guardamos el dataset de entrenamiento"
   ]
  },
  {
   "cell_type": "code",
   "execution_count": 45,
   "metadata": {},
   "outputs": [],
   "source": [
    "df.to_csv('../../data/dataset_training.csv')"
   ]
  },
  {
   "cell_type": "markdown",
   "metadata": {},
   "source": [
    "- Guardamos el dataset de prueba"
   ]
  },
  {
   "cell_type": "code",
   "execution_count": 46,
   "metadata": {},
   "outputs": [],
   "source": [
    "df_prediction.to_csv('../../data/dataset_prediction.csv')"
   ]
  }
 ],
 "metadata": {
  "kernelspec": {
   "display_name": ".regression_env",
   "language": "python",
   "name": "python3"
  },
  "language_info": {
   "codemirror_mode": {
    "name": "ipython",
    "version": 3
   },
   "file_extension": ".py",
   "mimetype": "text/x-python",
   "name": "python",
   "nbconvert_exporter": "python",
   "pygments_lexer": "ipython3",
   "version": "3.10.16"
  }
 },
 "nbformat": 4,
 "nbformat_minor": 2
}
