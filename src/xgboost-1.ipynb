{
 "cells": [
  {
   "cell_type": "code",
   "execution_count": 1,
   "metadata": {},
   "outputs": [
    {
     "name": "stdout",
     "output_type": "stream",
     "text": [
      "- Cargados Dataset de Entrenamiento\n",
      "- Cargados Dataset de Testing\n"
     ]
    }
   ],
   "source": [
    "import pandas as pd\n",
    "\n",
    "# Leer el archivo CSV\n",
    "df_to_train = pd.read_csv(\"../data/dataset_de_entrenamiento.csv\")\n",
    "df_to_test = pd.read_csv(\"../data/dataset_de_testing.csv\")\n",
    "\n",
    "print('- Cargados Dataset de Entrenamiento')\n",
    "print('- Cargados Dataset de Testing')\n",
    "\n",
    "# TODO Hay que convertir los paises a codigos de país o algo por el estilo"
   ]
  },
  {
   "cell_type": "markdown",
   "metadata": {},
   "source": [
    "- Cogemos los datos que vamos a utilizar para el entrenamiento"
   ]
  },
  {
   "cell_type": "code",
   "execution_count": 2,
   "metadata": {},
   "outputs": [],
   "source": [
    "X = df_to_train[['Year', 'Month', 'Day', 'DayOfWeek', 'Season']]\n",
    "X = pd.get_dummies(X, columns=['Season'], drop_first=True)\n",
    "\n",
    "# Etiqueta (target)\n",
    "y = df_to_train['TotalSales']"
   ]
  },
  {
   "cell_type": "markdown",
   "metadata": {},
   "source": [
    "- Separamos los datos de entrenamiento de los de test"
   ]
  },
  {
   "cell_type": "code",
   "execution_count": 3,
   "metadata": {},
   "outputs": [],
   "source": [
    "from sklearn.model_selection import train_test_split\n",
    "\n",
    "# TODO Tengo que dividir los datos manualmente y quedarme con datos de entrenamiento y otros para hacer las predicciones.\n",
    "\n",
    "# Dividir en entrenamiento y prueba (80% entrenamiento, 20% prueba)\n",
    "X_train, X_test, y_train, y_test = train_test_split(X, y, test_size=0.01, shuffle=False)\n"
   ]
  },
  {
   "cell_type": "code",
   "execution_count": null,
   "metadata": {},
   "outputs": [],
   "source": []
  },
  {
   "cell_type": "markdown",
   "metadata": {},
   "source": [
    "- Convierto los datos en formato DMatrix."
   ]
  },
  {
   "cell_type": "code",
   "execution_count": 4,
   "metadata": {},
   "outputs": [],
   "source": [
    "import xgboost as xgb\n",
    "\n",
    "# Convertir los datos de entrenamiento y prueba a DMatrix\n",
    "dtrain = xgb.DMatrix(X_train, label=y_train)\n",
    "dtest = xgb.DMatrix(X_test, label=y_test)"
   ]
  },
  {
   "cell_type": "markdown",
   "metadata": {},
   "source": [
    "- Configuración y entrenamiento del modelo"
   ]
  },
  {
   "cell_type": "code",
   "execution_count": 5,
   "metadata": {},
   "outputs": [],
   "source": [
    "# TODO Apuntarme el link donde están todos los parametros posibles\n",
    "\n",
    "params = {\n",
    "  'objective': 'reg:squarederror',  # Para regresión (error cuadrático medio)\n",
    "  'eval_metric': 'rmse',            # Métrica de evaluación (raíz del error cuadrático medio)\n",
    "  'max_depth': 100,                   # Profundidad máxima del árbol\n",
    "  'eta': 0.1,                       # Tasa de aprendizaje\n",
    "}\n",
    "\n",
    "# TODO Hacer el num_boost_round dinámico\n",
    "# Entrenamiento del modelo\n",
    "model = xgb.train(params, dtrain, num_boost_round=100)"
   ]
  },
  {
   "cell_type": "markdown",
   "metadata": {},
   "source": [
    "- Pruebas"
   ]
  },
  {
   "cell_type": "code",
   "execution_count": 6,
   "metadata": {},
   "outputs": [
    {
     "name": "stdout",
     "output_type": "stream",
     "text": [
      "[34697.457 33379.66  36207.73 ]\n",
      "[75809.97 70346.83 59943.73]\n"
     ]
    }
   ],
   "source": [
    "import matplotlib.pyplot as plt\n",
    "\n",
    "y_pred = model.predict(dtest)\n",
    "\n",
    "print(y_pred)\n",
    "print(y_test.values)\n",
    "\n",
    "# plt.figure(figsize=(10, 6))\n",
    "# plt.plot(y_test.values, label='Real')\n",
    "# plt.plot(y_pred, label='Predicción')\n",
    "# plt.legend()\n",
    "# plt.show()"
   ]
  }
 ],
 "metadata": {
  "kernelspec": {
   "display_name": "Python 3",
   "language": "python",
   "name": "python3"
  },
  "language_info": {
   "codemirror_mode": {
    "name": "ipython",
    "version": 3
   },
   "file_extension": ".py",
   "mimetype": "text/x-python",
   "name": "python",
   "nbconvert_exporter": "python",
   "pygments_lexer": "ipython3",
   "version": "3.13.1"
  }
 },
 "nbformat": 4,
 "nbformat_minor": 2
}
