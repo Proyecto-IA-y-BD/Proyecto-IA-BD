{
 "cells": [
  {
   "cell_type": "code",
   "execution_count": 1,
   "id": "bcff5e1a-f3e1-4d2e-8a93-b32f8fd4fc86",
   "metadata": {},
   "outputs": [
    {
     "name": "stdout",
     "output_type": "stream",
     "text": [
      "Resumen de los datos:\n",
      "<class 'pandas.core.frame.DataFrame'>\n",
      "RangeIndex: 541909 entries, 0 to 541908\n",
      "Data columns (total 8 columns):\n",
      " #   Column       Non-Null Count   Dtype  \n",
      "---  ------       --------------   -----  \n",
      " 0   InvoiceNo    541909 non-null  object \n",
      " 1   StockCode    541909 non-null  object \n",
      " 2   Description  540455 non-null  object \n",
      " 3   Quantity     541909 non-null  int64  \n",
      " 4   InvoiceDate  541909 non-null  object \n",
      " 5   UnitPrice    541909 non-null  float64\n",
      " 6   CustomerID   406829 non-null  float64\n",
      " 7   Country      541909 non-null  object \n",
      "dtypes: float64(2), int64(1), object(5)\n",
      "memory usage: 33.1+ MB\n",
      "\n",
      "Primeras filas:\n",
      "   InvoiceNo StockCode                          Description  Quantity  \\\n",
      "0     536365    85123A   WHITE HANGING HEART T-LIGHT HOLDER         6   \n",
      "1     536365     71053                  WHITE METAL LANTERN         6   \n",
      "2     536365    84406B       CREAM CUPID HEARTS COAT HANGER         8   \n",
      "3     536365    84029G  KNITTED UNION FLAG HOT WATER BOTTLE         6   \n",
      "4     536365    84029E       RED WOOLLY HOTTIE WHITE HEART.         6   \n",
      "5     536365     22752         SET 7 BABUSHKA NESTING BOXES         2   \n",
      "6     536365     21730    GLASS STAR FROSTED T-LIGHT HOLDER         6   \n",
      "7     536366     22633               HAND WARMER UNION JACK         6   \n",
      "8     536366     22632            HAND WARMER RED POLKA DOT         6   \n",
      "9     536367     84879        ASSORTED COLOUR BIRD ORNAMENT        32   \n",
      "10    536367     22745           POPPY'S PLAYHOUSE BEDROOM          6   \n",
      "11    536367     22748            POPPY'S PLAYHOUSE KITCHEN         6   \n",
      "12    536367     22749    FELTCRAFT PRINCESS CHARLOTTE DOLL         8   \n",
      "13    536367     22310              IVORY KNITTED MUG COSY          6   \n",
      "14    536367     84969   BOX OF 6 ASSORTED COLOUR TEASPOONS         6   \n",
      "15    536367     22623        BOX OF VINTAGE JIGSAW BLOCKS          3   \n",
      "16    536367     22622       BOX OF VINTAGE ALPHABET BLOCKS         2   \n",
      "17    536367     21754             HOME BUILDING BLOCK WORD         3   \n",
      "18    536367     21755             LOVE BUILDING BLOCK WORD         3   \n",
      "19    536367     21777          RECIPE BOX WITH METAL HEART         4   \n",
      "\n",
      "       InvoiceDate  UnitPrice  CustomerID         Country  \n",
      "0   12/1/2010 8:26       2.55     17850.0  United Kingdom  \n",
      "1   12/1/2010 8:26       3.39     17850.0  United Kingdom  \n",
      "2   12/1/2010 8:26       2.75     17850.0  United Kingdom  \n",
      "3   12/1/2010 8:26       3.39     17850.0  United Kingdom  \n",
      "4   12/1/2010 8:26       3.39     17850.0  United Kingdom  \n",
      "5   12/1/2010 8:26       7.65     17850.0  United Kingdom  \n",
      "6   12/1/2010 8:26       4.25     17850.0  United Kingdom  \n",
      "7   12/1/2010 8:28       1.85     17850.0  United Kingdom  \n",
      "8   12/1/2010 8:28       1.85     17850.0  United Kingdom  \n",
      "9   12/1/2010 8:34       1.69     13047.0  United Kingdom  \n",
      "10  12/1/2010 8:34       2.10     13047.0  United Kingdom  \n",
      "11  12/1/2010 8:34       2.10     13047.0  United Kingdom  \n",
      "12  12/1/2010 8:34       3.75     13047.0  United Kingdom  \n",
      "13  12/1/2010 8:34       1.65     13047.0  United Kingdom  \n",
      "14  12/1/2010 8:34       4.25     13047.0  United Kingdom  \n",
      "15  12/1/2010 8:34       4.95     13047.0  United Kingdom  \n",
      "16  12/1/2010 8:34       9.95     13047.0  United Kingdom  \n",
      "17  12/1/2010 8:34       5.95     13047.0  United Kingdom  \n",
      "18  12/1/2010 8:34       5.95     13047.0  United Kingdom  \n",
      "19  12/1/2010 8:34       7.95     13047.0  United Kingdom  \n"
     ]
    }
   ],
   "source": [
    "#imports\n",
    "import pandas as pd\n",
    "from datetime import datetime, timedelta\n",
    "\n",
    "#global\n",
    "camposOutliers = ['Quantity','UnitPrice']\n",
    "df = pd.read_csv(\"../data/data.csv\", encoding=\"ISO-8859-1\")\n",
    "dfLenOriginal= len(df)\n",
    "\n",
    "print(\"Resumen de los datos:\")\n",
    "df.info()\n",
    "\n",
    "print(\"\\nPrimeras filas:\")\n",
    "print(df.head(20))\n"
   ]
  },
  {
   "cell_type": "code",
   "execution_count": 14,
   "id": "95290a06-27fe-4b0c-9e66-d1eb1f80e6a8",
   "metadata": {},
   "outputs": [
    {
     "name": "stdout",
     "output_type": "stream",
     "text": [
      "\n",
      "Antes:\n",
      "135080\n",
      "\n",
      "Despues:\n",
      "0\n"
     ]
    }
   ],
   "source": [
    "# tratamiento CustomerID null\n",
    "print(\"\\nAntes:\")\n",
    "print(df['CustomerID'].isnull().sum())\n",
    "\n",
    "# agrupamos por InvoiceNo , y usamos ffill y bfill para rellenar, los valores nulls que no se rellenen les da un valor nuevo unico\n",
    "df['CustomerID'] = df.groupby(['InvoiceNo'])['CustomerID'].ffill().bfill()\n",
    "\n",
    "print(\"\\nDespues:\")\n",
    "print(df['CustomerID'].isnull().sum())"
   ]
  },
  {
   "cell_type": "code",
   "execution_count": 16,
   "id": "587a7c43-d080-4e24-8a06-ba77048cac80",
   "metadata": {},
   "outputs": [
    {
     "name": "stdout",
     "output_type": "stream",
     "text": [
      "\n",
      "Antes:\n",
      "1454\n"
     ]
    },
    {
     "name": "stderr",
     "output_type": "stream",
     "text": [
      "C:\\Users\\adri_\\AppData\\Local\\Temp\\ipykernel_22984\\2989794263.py:6: FutureWarning: Downcasting object dtype arrays on .fillna, .ffill, .bfill is deprecated and will change in a future version. Call result.infer_objects(copy=False) instead. To opt-in to the future behavior, set `pd.set_option('future.no_silent_downcasting', True)`\n",
      "  df['Description'] = df.groupby(['StockCode'])['Description'].transform(lambda group: group.ffill().bfill().fillna('No description'))\n"
     ]
    },
    {
     "name": "stdout",
     "output_type": "stream",
     "text": [
      "\n",
      "Despues:\n",
      "0\n"
     ]
    }
   ],
   "source": [
    "# tratamiento Description null\n",
    "print(\"\\nAntes:\")\n",
    "print(df['Description'].isnull().sum())\n",
    "\n",
    "# agrupamos por stockcode, y usamos ffill para rellenar con el anterior valor dentro del grupo, para los primer valor en null tambien uso bfill\n",
    "df['Description'] = df.groupby(['StockCode'])['Description'].transform(lambda group: group.ffill().bfill().fillna('No description')) \n",
    "\n",
    "print(\"\\nDespues:\")\n",
    "print(df['Description'].isnull().sum())\n"
   ]
  },
  {
   "cell_type": "code",
   "execution_count": 17,
   "id": "d3fee77b-d367-4cec-a94c-07aa1d3d6a7c",
   "metadata": {},
   "outputs": [
    {
     "name": "stdout",
     "output_type": "stream",
     "text": [
      "\n",
      "Numero de duplicados antes:\n",
      "5268\n",
      "\n",
      "Numero de duplicados despues:\n",
      "0\n",
      "\n",
      "Numero de negativos:\n",
      "Quantity     10587\n",
      "UnitPrice        2\n",
      "dtype: int64\n"
     ]
    }
   ],
   "source": [
    "# tratamiento duplicados\n",
    "print(\"\\nNumero de duplicados antes:\")\n",
    "print(df.duplicated().sum())\n",
    "\n",
    "df = df.drop_duplicates()\n",
    "\n",
    "print(\"\\nNumero de duplicados despues:\")\n",
    "print(df.duplicated().sum())\n",
    "\n",
    "\n",
    "# tratamiento de negativos, los guardo en otro df, y me los quito del principal\n",
    "mask = df[camposOutliers] < 0\n",
    "dfNegativos = df[mask.any(axis=1)]\n",
    "df= df[~mask.any(axis=1)]\n",
    "\n",
    "print(\"\\nNumero de negativos:\")\n",
    "print(mask.sum())\n",
    "print(\"\\nDatos negativos:\")\n",
    "print(dfNegativos.info())"
   ]
  },
  {
   "cell_type": "code",
   "execution_count": 20,
   "id": "39895c77-b8aa-4790-b16f-a37c1ad2a525",
   "metadata": {},
   "outputs": [
    {
     "name": "stdout",
     "output_type": "stream",
     "text": [
      "\n",
      "Fechas invalidas:\n",
      "0\n"
     ]
    }
   ],
   "source": [
    "# tratamiento fechas invalidas por formato\n",
    "def fecha_valida(fecha, formato=\"%m/%d/%Y %H:%M\"):\n",
    "    try:\n",
    "        datetime.strptime(fecha, formato)  # Intentamos convertir la fecha\n",
    "        return True\n",
    "    except ValueError:\n",
    "        return False\n",
    "\n",
    "\n",
    "fechasValidas= df['InvoiceDate'].apply(fecha_valida)\n",
    "fechasInvalidas = df[~fechasValidas]\n",
    "\n",
    "print(\"\\nFechas invalidas:\")\n",
    "print(len(fechasInvalidas))\n",
    "\n",
    "# Borramos las invalidas\n",
    "df = df[fechasValidas]\n"
   ]
  },
  {
   "cell_type": "code",
   "execution_count": 186,
   "id": "f0af6f99-09f6-4b61-b73a-cb8b70da3f35",
   "metadata": {},
   "outputs": [
    {
     "name": "stdout",
     "output_type": "stream",
     "text": [
      "\n",
      "Fechas fuera de limite:\n",
      "0\n"
     ]
    }
   ],
   "source": [
    "# tratamiento fechas invalidas por fecha\n",
    "df['InvoiceDate'] = pd.to_datetime(df['InvoiceDate'],format=\"%m/%d/%Y %H:%M\")\n",
    "\n",
    "# pd.to_datetime usa el formato %Y/%m/%d, el output se pude cambiar con strftime\n",
    "fechaInicio =  pd.to_datetime('2010/12/1 00:01')\n",
    "fechaFin =  pd.to_datetime('2011/12/9 23:59')\n",
    "\n",
    "fechasBoolean = (df['InvoiceDate'] < fechaInicio) | (df['InvoiceDate'] > fechaFin)\n",
    "fechasFueraLimite=df[fechasBoolean]\n",
    "print(\"\\nFechas fuera de limite:\")\n",
    "print(len(fechasFueraLimite))\n",
    "\n",
    "# quitamos del DF\n",
    "df = df[~fechasBoolean]"
   ]
  },
  {
   "cell_type": "code",
   "execution_count": 146,
   "id": "e3c8a77a-10d7-488f-8bc1-68f64931bdc5",
   "metadata": {},
   "outputs": [
    {
     "name": "stdout",
     "output_type": "stream",
     "text": [
      "Porcentaje de datos retenidos: 91.36%\n"
     ]
    }
   ],
   "source": [
    "# para los outliers, usamos el rango intercuartil (IQR)\n",
    "q1 = df[camposOutliers].quantile(0.25)\n",
    "q3 = df[camposOutliers].quantile(0.75)\n",
    "iqr = q3- q1\n",
    "\n",
    "#ajuste de rango para 90%//95%\n",
    "rango=2.5\n",
    "limiteInferior = q1 - (rango * iqr)\n",
    "limiteSuperior = q3 + (rango * iqr)\n",
    "\n",
    "outliersBoolean = (df[camposOutliers] >= limiteInferior) & (df[camposOutliers] <= limiteSuperior)\n",
    "dfFiltrado = df[outliersBoolean.all(axis=1)]\n",
    "\n",
    "# porcentaje filtarado\n",
    "print(f\"Porcentaje de datos retenidos: {len(dfFiltrado) / len(df) * 100:.2f}%\")"
   ]
  },
  {
   "cell_type": "code",
   "execution_count": null,
   "id": "aec20515-7a60-433f-9fee-7dbe5627ccb7",
   "metadata": {},
   "outputs": [],
   "source": [
    "# Añado columna de total\n",
    "df['Total'] = df[Quantity] * df[UnitPrice]\n"
   ]
  },
  {
   "cell_type": "code",
   "execution_count": null,
   "id": "e536cf9a-5196-480a-8aa0-7d80a8c0ea4e",
   "metadata": {},
   "outputs": [],
   "source": [
    "# Total datos limpiados\n",
    "print(f\"/n Antes de limpieza: {dfLenOriginal}\")\n",
    "print(f\"/n Despues de limpieza: {len(df)}\")\n",
    "print(f\"/n Total de columnas eliminadas: {dfLenOriginal-len(df)}\")\n",
    "\n",
    "print(\"Resumen de los datos:\")\n",
    "df.info()\n",
    "\n",
    "\n",
    "# Guardar datos limpios en un nuevo archivo CSV\n",
    "df.to_csv('../data/data_limpia.csv', index=False)\n"
   ]
  }
 ],
 "metadata": {
  "kernelspec": {
   "display_name": "Python [conda env:base] *",
   "language": "python",
   "name": "conda-base-py"
  },
  "language_info": {
   "codemirror_mode": {
    "name": "ipython",
    "version": 3
   },
   "file_extension": ".py",
   "mimetype": "text/x-python",
   "name": "python",
   "nbconvert_exporter": "python",
   "pygments_lexer": "ipython3",
   "version": "3.12.7"
  }
 },
 "nbformat": 4,
 "nbformat_minor": 5
}
